{
 "cells": [
  {
   "cell_type": "markdown",
   "metadata": {},
   "source": [
    "<h1 style=\"font-size:30pt\"> TensorFlow Probability </h1><hr>\n",
    "<p style=\"font-size:14pt\"> TensorFlow Probability <i>TFP</i> é uma libraria de Python desenvolvida por cima de <i>TensorFlow</i>, pensada para data scientists, estadisticos e investigadores em Machine Learning. Permitindo entender a informação e fazer predições com ela, facilitando o proceso combinando modelos probabilisticos e deep learning em hardware moderno (TPU, GPU). </p>\n",
    "<img src='https://www.amd.com/system/files/2019-11/343814-tensorflow-logo-1260wide.png' style='width:20%'>\n",
    "\n",
    "## Referencias\n",
    "- <a href='https://www.tensorflow.org/'>TensorFlow</a>\n",
    "- <a href='https://www.tensorflow.org/probability'>TensorFlow Probability</a>\n",
    "- <a href='https://github.com/tensorflow/probability'>TensorFlow Probability on GitHub</a>\n",
    "\n",
    "\n"
   ]
  },
  {
   "cell_type": "markdown",
   "metadata": {},
   "source": [
    "<h2 style=\"font-size:25pt\"> Ferramentas </h2>\n",
    "\n",
    "As ferramentas usadas por TFP:\n",
    "- **TensorFlow**\n",
    "- **Modelos Estadisticos**\n",
    "    - Distribuições (<a href='https://github.com/tensorflow/probability/tree/main/tensorflow_probability/python/distributions'> tfp.distributions </a>)\n",
    "    - Bijectores (<a href='https://github.com/tensorflow/probability/tree/main/tensorflow_probability/python/bijectors'> tfp.bijectors </a>)\n",
    "- **Construção de Modelos**\n",
    "    - Distribuições Conjuntas (<a href='https://github.com/tensorflow/probability/tree/main/tensorflow_probability/python/distributions/joint_distribution_sequential.py'> tfp.distributionsJointDistributionSequential </a>)\n",
    "    - Capas probabilisticas (<a href='https://github.com/tensorflow/probability/tree/main/tensorflow_probability/python/layers'> tfp.layers </a>)\n",
    "- **Inferencia**\n",
    "    - Markov chain Monte Carlo\n",
    "    - Variational Inference\n",
    "    - Optimizers \n",
    "    - Monte Carlo"
   ]
  },
  {
   "cell_type": "markdown",
   "metadata": {},
   "source": [
    "<h2 style=\"font-size:30pt\"> Instalação </h2>\n",
    "\n",
    "1. Instalação do Python3. (Recomendado o uso de <a href='https://docs.conda.io/en/latest/miniconda.html'>miniconda</a>)\n",
    "    - Linux\n",
    "        ~~~~\n",
    "        sudo apt install python3-dev python3-pip python3-venv\n",
    "        ~~~~\n",
    "2. Instalação do TensorFlow \n",
    "    ~~~~\n",
    "    pip install tensorflow\n",
    "    ~~~~\n",
    "3. Instalação do TensorFlow Probability\n",
    "    ~~~~\n",
    "    pip install tensorflow_probability\n",
    "    ~~~~\n",
    "4. Controladores de GPU (Opcional, NVIDIA)\n",
    "    - Instalação de <a href='https://www.tensorflow.org/install/gpu'>TF para GPU</a>\n",
    "        ~~~~\n",
    "        pip install tensorflow-gpu\n",
    "        ~~~~\n",
    "    - Software de NVIDIA necesario\n",
    "        <UL>\n",
    "        <LI><a href='https://www.nvidia.com/drivers'>NVIDIA® GPU drivers</a></LI>\n",
    "        <LI><a href='https://developer.nvidia.com/cuda-toolkit-archive'>CUDA® Toolkit</a></LI>\n",
    "        <LI><a href='https://developer.nvidia.com/rdp/cudnn-archive'>cuDNN</a></LI>\n",
    "        </UL>\n",
    "\n"
   ]
  },
  {
   "cell_type": "markdown",
   "metadata": {},
   "source": []
  }
 ],
 "metadata": {
  "interpreter": {
   "hash": "28388f68c2522d34938d4cceb41ff8ff9b335b2724975aa38e0611e5f9fe848c"
  },
  "kernelspec": {
   "display_name": "Python 3.9.7 64-bit ('base': conda)",
   "name": "python3"
  },
  "language_info": {
   "name": "python",
   "version": "3.9.7"
  },
  "orig_nbformat": 4
 },
 "nbformat": 4,
 "nbformat_minor": 2
}
